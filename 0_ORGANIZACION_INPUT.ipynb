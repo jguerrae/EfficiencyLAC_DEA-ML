{
 "cells": [
  {
   "cell_type": "code",
   "execution_count": 1,
   "metadata": {},
   "outputs": [],
   "source": [
    "import pandas as pd\n",
    "from glob import glob\n",
    "import numpy as np\n",
    "import os"
   ]
  },
  {
   "cell_type": "code",
   "execution_count": 2,
   "metadata": {},
   "outputs": [],
   "source": [
    "#RDM, NIC, GTM, SALV -> NO"
   ]
  },
  {
   "cell_type": "markdown",
   "metadata": {},
   "source": [
    "## INPUT"
   ]
  },
  {
   "cell_type": "code",
   "execution_count": 3,
   "metadata": {},
   "outputs": [],
   "source": [
    "writer = pd.ExcelWriter('0_INPUT//INPUT.xlsx', engine='xlsxwriter')"
   ]
  },
  {
   "cell_type": "code",
   "execution_count": 5,
   "metadata": {},
   "outputs": [],
   "source": [
    "tipos = [\"% de Ejecución\", \"(USD per capita nominal)\", \"Clasificación funcional (% del PIB)\", \"Clasificación funcional (% del Total)\"]\n",
    "PAISES = ['URY', 'RDM', 'PER', 'PRY', 'PAN', 'NIC', 'MEX', 'HND', 'GTM', 'SLV', 'ECU', 'COL', 'CRI', 'BRL', 'CHL', 'BOL']\n",
    "# PAISES = ['MEX']\n",
    "# PAISES = ['BOL']\n",
    "nombres_finales = []\n",
    "\n",
    "\n",
    "for tipo in tipos[:]:\n",
    "\n",
    "    final_db = pd.DataFrame(columns = [\"Country Code\", \"Time\"])\n",
    "\n",
    "    for pais in PAISES[:]:\n",
    "        dfp = pd.read_excel(\"INPUT_BDD Inversión Pública_FINAL.xlsx\", sheet_name=pais)\n",
    "        indice = dfp[dfp[\"Unnamed: 1\"]==tipo].index[0]\n",
    "\n",
    "        # print(indice, pais, tipo)\n",
    "\n",
    "        dfp = dfp.iloc[indice:indice+77, :] \n",
    "        dfp = dfp[dfp[\"Unnamed: 1\"].notna()]\n",
    "        dfp = dfp.iloc[:, 1:]\n",
    "        dfp = dfp.T\n",
    "        dfp.columns = dfp.iloc[0]\n",
    "        dfp = dfp.iloc[2:-1, :].reset_index(drop=True)\n",
    "\n",
    "        dfp.columns = [i.replace(\" \", \"\") for i in dfp.columns]\n",
    "\n",
    "\n",
    "        dfp = dfp.rename(columns = {tipo.replace(\" \", \"\"): \"Time\"})\n",
    "        dfp = dfp.iloc[0:23]\n",
    "        dfp.Time = range(1999,2022)\n",
    "        for col in dfp.columns:\n",
    "            dfp[col] = pd.to_numeric(dfp[col], errors='coerce')\n",
    "        dfp[\"Country Code\"] = pais\n",
    "        dfp[\"Country Code\"] = dfp[\"Country Code\"].replace(\"BRL\", \"BRA\")\n",
    "        dfp = dfp.replace(0,np.nan)\n",
    "\n",
    "        final_db = pd.concat([final_db, dfp])\n",
    "\n",
    "    nombres_finales.append(tipo.replace(\" \", \"\")[0:30])\n",
    "\n",
    "    final_db.to_excel(writer, sheet_name=tipo.replace(\" \", \"\")[0:30], index = False)\n",
    "\n",
    "\n",
    "# writer.save()\n",
    "writer.close()   "
   ]
  },
  {
   "cell_type": "code",
   "execution_count": null,
   "metadata": {},
   "outputs": [],
   "source": []
  }
 ],
 "metadata": {
  "kernelspec": {
   "display_name": "base",
   "language": "python",
   "name": "python3"
  },
  "language_info": {
   "codemirror_mode": {
    "name": "ipython",
    "version": 3
   },
   "file_extension": ".py",
   "mimetype": "text/x-python",
   "name": "python",
   "nbconvert_exporter": "python",
   "pygments_lexer": "ipython3",
   "version": "3.8.5"
  },
  "orig_nbformat": 4
 },
 "nbformat": 4,
 "nbformat_minor": 2
}
